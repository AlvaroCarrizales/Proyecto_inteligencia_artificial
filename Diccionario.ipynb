{
  "nbformat": 4,
  "nbformat_minor": 0,
  "metadata": {
    "colab": {
      "name": "Untitled9.ipynb",
      "version": "0.3.2",
      "provenance": [],
      "include_colab_link": true
    },
    "kernelspec": {
      "name": "python3",
      "display_name": "Python 3"
    }
  },
  "cells": [
    {
      "cell_type": "markdown",
      "metadata": {
        "id": "view-in-github",
        "colab_type": "text"
      },
      "source": [
        "<a href=\"https://colab.research.google.com/github/AlvaroCarrizales/Proyecto_inteligencia_artificial/blob/master/Diccionario.ipynb\" target=\"_parent\"><img src=\"https://colab.research.google.com/assets/colab-badge.svg\" alt=\"Open In Colab\"/></a>"
      ]
    },
    {
      "cell_type": "code",
      "metadata": {
        "id": "-IkpMfBTd_NF",
        "colab_type": "code",
        "colab": {}
      },
      "source": [
        "import cv2\n",
        "import numpy as np\n",
        "import math as m\n",
        "from matplotlib import pyplot as plt\n",
        "from IPython.display import Image\n",
        "import tensorflow as tf\n",
        "from tensorflow import keras\n",
        "from sklearn.metrics import *"
      ],
      "execution_count": 0,
      "outputs": []
    },
    {
      "cell_type": "code",
      "metadata": {
        "id": "q49F7zqQeFLF",
        "colab_type": "code",
        "outputId": "1e86f065-91cc-47b3-8e55-57805e0a804d",
        "colab": {
          "base_uri": "https://localhost:8080/",
          "height": 51
        }
      },
      "source": [
        "y=[]\n",
        "X=np.empty((0,288*432), int)\n",
        "X1=np.empty((0,288*432), int)\n",
        "for punt in range(0,144):\n",
        "  directorio=\"L%d.jpg\" % (punt+1)\n",
        "  a=cv2.imread(directorio)\n",
        "  rgB=np.matrix(a[:,:,0])\n",
        "  vector=np.reshape(rgB,(1,288*432))\n",
        "  X=np.append(X,vector,axis=0)\n",
        "print(X.shape)\n",
        "y1 = [8,9,21,13,4,4,9,8,23,16,4,20,21,11,18,23,13,19,22,15,23,26,17,11,3,11,2,21,2,9,13,3,2,9,2,11,8,9,4,3,9,21,21,11,3,6,3,9,9,11,2,9,11,9,16,4,4,11,11,3,4,4,11,3,13,23,2,26,4,13,18,22,26,21,16,24,12,4,18,22,23,18,4,4,7,23,19,23,18,18,2,23,16,12,16,9,21,21,10,11,14,6,4,2,20,5,11,1,19,26,17,11,14,19,19,14,12,16,16,11,12,15,22,18,21,14,13,1,15,14,15,2,21,12,20,19,24,13,15,26,3,16,8,11]\n",
        "yy = np.array(y1)\n",
        "print(yy.shape)"
      ],
      "execution_count": 48,
      "outputs": [
        {
          "output_type": "stream",
          "text": [
            "(144, 124416)\n",
            "(144,)\n"
          ],
          "name": "stdout"
        }
      ]
    },
    {
      "cell_type": "code",
      "metadata": {
        "id": "fRKu4EYVzcEQ",
        "colab_type": "code",
        "colab": {}
      },
      "source": [
        "def plot_train_test(estimator, Xtr, Xts, ytr, yts, alpha=.5):\n",
        "    estimator.fit(Xtr,ytr)\n",
        "    plt.figure(figsize=(12,4))\n",
        "    plt.subplot(121)\n",
        "    plt.title(\"TRAIN accuracy %.3f\"%estimator.score(Xtr, ytr))\n",
        "    plt.subplot(122)\n",
        "    plt.title(\"TEST accuracy %.3f\"%estimator.score(Xts, yts))"
      ],
      "execution_count": 0,
      "outputs": []
    },
    {
      "cell_type": "code",
      "metadata": {
        "id": "YWKE3d0moMi_",
        "colab_type": "code",
        "outputId": "4c3782c6-0cfa-4097-b17b-b791216d37ef",
        "colab": {
          "base_uri": "https://localhost:8080/",
          "height": 68
        }
      },
      "source": [
        "from sklearn.model_selection import KFold\n",
        "from sklearn.model_selection import cross_val_score\n",
        "from sklearn.naive_bayes import GaussianNB\n",
        "est = GaussianNB()\n",
        "s = cross_val_score(est, X, yy, cv=KFold(10, shuffle=True), scoring=make_scorer(accuracy_score))\n",
        "print(s)\n",
        "print( \"accuracy %.3f (+/- %.5f)\"%(np.mean(s), np.std(s)))"
      ],
      "execution_count": 58,
      "outputs": [
        {
          "output_type": "stream",
          "text": [
            "[0.73333333 0.86666667 1.         0.86666667 1.         1.\n",
            " 0.64285714 0.71428571 0.92857143 0.78571429]\n",
            "accuracy 0.854 (+/- 0.12376)\n"
          ],
          "name": "stdout"
        }
      ]
    },
    {
      "cell_type": "code",
      "metadata": {
        "id": "m3-NaSkp2VZk",
        "colab_type": "code",
        "colab": {}
      },
      "source": [
        "from sklearn.naive_bayes import GaussianNB\n",
        "from sklearn.model_selection import train_test_split\n",
        "est = GaussianNB()\n",
        "est.fit(X,yy)\n",
        "predictions = est.predict(X)\n",
        "Xtr, Xts, ytr, yts = train_test_split(X,yy, test_size=.8)"
      ],
      "execution_count": 0,
      "outputs": []
    },
    {
      "cell_type": "code",
      "metadata": {
        "id": "3400aA-skPTr",
        "colab_type": "code",
        "colab": {
          "base_uri": "https://localhost:8080/",
          "height": 317
        },
        "outputId": "5705bf28-6959-49e1-a080-76fea19b423a"
      },
      "source": [
        "class_names = ['a', 'b', 'c', 'd', 'e', 'f', 'g', 'h', 'i' ,'j', 'k', 'l', 'm', 'n', 'o', 'p', 'q', 'r', 's', 't', 'u', 'v', 'w', 'x', 'y', 'z']\n",
        "aa=cv2.imread(\"L146.jpg\")\n",
        "rggB=np.matrix(aa[:,:,0])\n",
        "vectorr=np.reshape(rggB,(1,288*432))\n",
        "predictions = est.predict(vectorr)\n",
        "print(predictions)\n",
        "plt.imshow(vectorr.reshape(288,432), interpolation=\"nearest\", cmap = plt.cm.Greys_r)\n",
        "plt.xlabel(class_names[predictions[0]-1])"
      ],
      "execution_count": 56,
      "outputs": [
        {
          "output_type": "stream",
          "text": [
            "[21]\n"
          ],
          "name": "stdout"
        },
        {
          "output_type": "execute_result",
          "data": {
            "text/plain": [
              "Text(0.5, 0, 'u')"
            ]
          },
          "metadata": {
            "tags": []
          },
          "execution_count": 56
        },
        {
          "output_type": "display_data",
          "data": {
            "image/png": "[encoded data removed]",
            "text/plain": [
              "<Figure size 432x288 with 1 Axes>"
            ]
          },
          "metadata": {
            "tags": []
          }
        }
      ]
    }
  ]
}