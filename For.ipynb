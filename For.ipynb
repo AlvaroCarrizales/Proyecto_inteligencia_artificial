{
  "nbformat": 4,
  "nbformat_minor": 0,
  "metadata": {
    "colab": {
      "name": "For.ipynb",
      "version": "0.3.2",
      "provenance": [],
      "include_colab_link": true
    },
    "kernelspec": {
      "name": "python3",
      "display_name": "Python 3"
    }
  },
  "cells": [
    {
      "cell_type": "markdown",
      "metadata": {
        "id": "view-in-github",
        "colab_type": "text"
      },
      "source": [
        "<a href=\"https://colab.research.google.com/github/AlvaroCarrizales/Proyecto_inteligencia_artificial/blob/master/For.ipynb\" target=\"_parent\"><img src=\"https://colab.research.google.com/assets/colab-badge.svg\" alt=\"Open In Colab\"/></a>"
      ]
    },
    {
      "cell_type": "code",
      "metadata": {
        "id": "UUJM037De9Y6",
        "colab_type": "code",
        "colab": {}
      },
      "source": [
        "import cv2\n",
        "import numpy as np\n",
        "import math as m\n",
        "from matplotlib import pyplot as plt\n",
        "from IPython.display import Image"
      ],
      "execution_count": 0,
      "outputs": []
    },
    {
      "cell_type": "code",
      "metadata": {
        "id": "0skDogGuel-k",
        "colab_type": "code",
        "colab": {}
      },
      "source": [
        "for i in range(0,0):\n",
        "  directorio=\"%d.jpg\" % (i+1)\n",
        "  a=cv2.imread(directorio)\n",
        "  rgB=np.matrix(a[:,:,0])\n",
        "  rGb=np.matrix(a[:,:,1])\n",
        "  Rgb=np.matrix(a[:,:,2])\n",
        "  I=cv2.absdiff(rGb,rgB)\n",
        "  II=I\n",
        "  [fil,col]=I.shape \n",
        "  for o in range(0,fil):\n",
        "    for oo in range(0,col):\n",
        "      if I[o,oo]<80:\n",
        "        I[o,oo]=0\n",
        "  for o in range(0,fil):\n",
        "    for oo in range(0,col):\n",
        "      if I[o,oo]>0:\n",
        "        I[o,oo]=1\n",
        "  se=np.ones((50,50),np.uint8)\n",
        "  se2=np.ones((10,10),np.uint8)\n",
        "  closing=cv2.morphologyEx(I,cv2.MORPH_CLOSE,se)\n",
        "  dilation=cv2.dilate(closing,se2,1)\n",
        "  S,contours,hierarchy=cv2.findContours(dilation,cv2.RETR_TREE,cv2.CHAIN_APPROX_SIMPLE)\n",
        "  cnt=contours[:]\n",
        "  num=len(cnt)\n",
        "  box=np.zeros((num,4))\n",
        "  for j in range(0,num):\n",
        "    box[j,:]=cv2.boundingRect(cnt[j])\n",
        "  L=np.zeros((num,4))\n",
        "  Max=[0,0]\n",
        "  for j in range(0,num):\n",
        "    L[j,:]=box[j]\n",
        "    if L[j,2]>Max[1]:\n",
        "      Max=[j,L[j,2]]\n",
        "  BOX=box[Max[0],:]\n",
        "  b=a[int(BOX[1]):int(BOX[1])+int(BOX[3]),int(BOX[0]):int(BOX[0])+int(BOX[2]),:]\n",
        "  directorio2=\"blank%d.jpg\" % (i+1)\n",
        "  cv2.imwrite(directorio2,b)\n",
        "  directorio3=\"blank%d.jpg\" % (i+1)\n",
        "  A=cv2.imread(directorio3)\n",
        "  [fil,col,cap]=A.shape\n",
        "  rgB=A[:,:,0]\n",
        "  rGb=A[:,:,1]\n",
        "  Rgb=A[:,:,2]\n",
        "  R=Rgb/255.0\n",
        "  G=rGb/255.0\n",
        "  B=rgB/255.0\n",
        "  K=np.zeros((fil,col))\n",
        "  for o in range(0,fil):\n",
        "    for oo in range(0,col):\n",
        "      MAX=max(R[o,oo],G[o,oo],B[o,oo])\n",
        "      K[o,oo]=1-MAX\n",
        "  cv2.imwrite(\"prueba%d.bmp\" % (i+1),K)\n",
        "  k=cv2.imread(\"prueba%d.bmp\" % (i+1))\n",
        "  BW1=cv2.Laplacian(k,cv2.CV_8UC1)\n",
        "  Image=BW1[:,:,0]+BW1[:,:,1]+BW1[:,:,1]\n",
        "  ret,thresh=cv2.threshold(Image,0,255,0)\n",
        "  S,contours,hierarchy=cv2.findContours(thresh,cv2.RETR_TREE,cv2.CHAIN_APPROX_SIMPLE)\n",
        "  cnt=contours[:]\n",
        "  num=len(cnt)\n",
        "  box=np.zeros((num,4))\n",
        "  for j in range(0,num):\n",
        "    box[j,:]=cv2.boundingRect(cnt[j])\n",
        "  Box=np.zeros((20,4))\n",
        "  [L,A]=thresh.shape\n",
        "  q=0\n",
        "  for j in range(0,num):\n",
        "    p=box[j,:]\n",
        "    if p[3]>=0.4*L and p[3]<=0.7*L and p[2]>=0.08*A and p[2]<=0.17*A:\n",
        "      Box[q]=p\n",
        "      q=q+1\n",
        "  BOX=np.zeros((6,4))\n",
        "  num=len(Box)\n",
        "  q=0\n",
        "  for j in range(0,num):\n",
        "    if j%2==0 and j<11:\n",
        "      BOX[q]=Box[j]\n",
        "      q=q+1\n",
        "  LETRA1=BW1[int(BOX[0,1]):int(BOX[0,1])+int(BOX[0,3]),int(BOX[0,0]):int(BOX[0,0])+int(BOX[0,2])]\n",
        "  LETRA2=BW1[int(BOX[1,1]):int(BOX[1,1])+int(BOX[1,3]),int(BOX[1,0]):int(BOX[1,0])+int(BOX[1,2])]\n",
        "  LETRA3=BW1[int(BOX[2,1]):int(BOX[2,1])+int(BOX[2,3]),int(BOX[2,0]):int(BOX[2,0])+int(BOX[2,2])]\n",
        "  NUM1=BW1[int(BOX[3,1]):int(BOX[3,1])+int(BOX[3,3]),int(BOX[3,0]):int(BOX[3,0])+int(BOX[3,2])]\n",
        "  NUM2=BW1[int(BOX[4,1]):int(BOX[4,1])+int(BOX[4,3]),int(BOX[4,0]):int(BOX[4,0])+int(BOX[4,2])]\n",
        "  NUM3=BW1[int(BOX[5,1]):int(BOX[5,1])+int(BOX[5,3]),int(BOX[5,0]):int(BOX[5,0])+int(BOX[5,2])]\n",
        "  plt.subplot(161),plt.imshow(LETRA1*255)\n",
        "  plt.subplot(162),plt.imshow(LETRA2*255)\n",
        "  plt.subplot(163),plt.imshow(LETRA3*255)\n",
        "  plt.subplot(164),plt.imshow(NUM1*255)\n",
        "  plt.subplot(165),plt.imshow(NUM2*255)\n",
        "  plt.subplot(166),plt.imshow(NUM3*255)\n",
        "  plt.savefig(\"segmentado%d.jpg\" % (i+1))"
      ],
      "execution_count": 0,
      "outputs": []
    },
    {
      "cell_type": "code",
      "metadata": {
        "id": "Y0tyGvx8gZkJ",
        "colab_type": "code",
        "colab": {}
      },
      "source": [
        ""
      ],
      "execution_count": 0,
      "outputs": []
    }
  ]
}